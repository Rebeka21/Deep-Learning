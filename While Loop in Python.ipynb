{
 "cells": [
  {
   "cell_type": "code",
   "execution_count": 1,
   "metadata": {},
   "outputs": [
    {
     "name": "stdout",
     "output_type": "stream",
     "text": [
      "Value of num1 is:  0\n",
      "Value of num1 is:  1\n",
      "Value of num1 is:  2\n",
      "Value of num1 is:  3\n",
      "Value of num1 is:  4\n",
      "Value of num1 is:  5\n",
      "Value of num1 is:  6\n",
      "Value of num1 is:  7\n",
      "Value of num1 is:  8\n",
      "Value of num1 is:  9\n"
     ]
    }
   ],
   "source": [
    "num1 = 0\n",
    "while num1 < 10:\n",
    "    print('Value of num1 is: ', num1)\n",
    "    num1 += 1"
   ]
  },
  {
   "cell_type": "code",
   "execution_count": 3,
   "metadata": {},
   "outputs": [
    {
     "name": "stdout",
     "output_type": "stream",
     "text": [
      "Enter your choice: pink\n",
      "Enter your choice: yellow\n",
      "Enter your choice: black\n",
      "Enter your choice: purple\n",
      "Enter your choice: blue\n",
      "You are out of the while loop\n"
     ]
    }
   ],
   "source": [
    "colour = ['red','green','blue']\n",
    "your_choice = \"\"\n",
    "while your_choice not in colour:\n",
    "    your_choice = input('Enter your choice: ')\n",
    "print('You are out of the while loop')"
   ]
  },
  {
   "cell_type": "code",
   "execution_count": 9,
   "metadata": {},
   "outputs": [
    {
     "name": "stdout",
     "output_type": "stream",
     "text": [
      "Enter your choice: pink\n",
      "Enter your choice: purple\n",
      "Enter your choice: exit\n",
      "OUT\n"
     ]
    }
   ],
   "source": [
    "colour = ['red','green','blue']\n",
    "your_choice = \"\"\n",
    "while your_choice not in colour:\n",
    "    your_choice = input('Enter your choice: ')\n",
    "    if your_choice == 'exit':\n",
    "        print('OUT')\n",
    "        break\n",
    "    elif your_choice in colour:\n",
    "        print('You are out of the while loop')"
   ]
  },
  {
   "cell_type": "code",
   "execution_count": 10,
   "metadata": {},
   "outputs": [
    {
     "name": "stdout",
     "output_type": "stream",
     "text": [
      "Enter your choice: pink\n",
      "Enter your choice: yellow\n",
      "Enter your choice: purple\n",
      "Enter your choice: red\n",
      "You are out of the while loop\n"
     ]
    }
   ],
   "source": [
    "colour = ['red','green','blue']\n",
    "your_choice = \"\"\n",
    "while your_choice not in colour:\n",
    "    your_choice = input('Enter your choice: ')\n",
    "    if your_choice == 'exit':\n",
    "        print('OUT')\n",
    "        break\n",
    "    elif your_choice in colour:\n",
    "        print('You are out of the while loop')"
   ]
  }
 ],
 "metadata": {
  "kernelspec": {
   "display_name": "Python 3",
   "language": "python",
   "name": "python3"
  },
  "language_info": {
   "codemirror_mode": {
    "name": "ipython",
    "version": 3
   },
   "file_extension": ".py",
   "mimetype": "text/x-python",
   "name": "python",
   "nbconvert_exporter": "python",
   "pygments_lexer": "ipython3",
   "version": "3.7.6"
  }
 },
 "nbformat": 4,
 "nbformat_minor": 4
}
