{
 "cells": [
  {
   "cell_type": "code",
   "execution_count": 1,
   "metadata": {},
   "outputs": [
    {
     "name": "stdout",
     "output_type": "stream",
     "text": [
      "4\n",
      "3\n",
      "Loop Ended\n"
     ]
    }
   ],
   "source": [
    "num = 5\n",
    "while num > 0:\n",
    "    num = num - 1\n",
    "    if num == 2:\n",
    "        break\n",
    "    print(num)\n",
    "print('Loop Ended')"
   ]
  },
  {
   "cell_type": "code",
   "execution_count": 5,
   "metadata": {},
   "outputs": [
    {
     "name": "stdout",
     "output_type": "stream",
     "text": [
      "What is your name? Jessica\n",
      "What is your name? Joseph\n",
      "What is your name? Rebeka\n",
      "Hello Rebeka, what is your username? fish\n",
      "What is your name? Rebeka\n",
      "Hello Rebeka, what is your username? colour\n",
      "What is your name? Rebeka\n",
      "Hello Rebeka, what is your username? animals\n",
      "What is your name? Rebeka\n",
      "Hello Rebeka, what is your username? flower\n",
      "Username Accepted\n"
     ]
    }
   ],
   "source": [
    "while True:\n",
    "    name = input('What is your name? ')\n",
    "    if name != 'Rebeka':\n",
    "        continue\n",
    "    u_name = input('Hello ' + name + ', what is your username? ')\n",
    "    if u_name == 'flower':\n",
    "        break\n",
    "    else:\n",
    "        continue\n",
    "print('Username Accepted')"
   ]
  }
 ],
 "metadata": {
  "kernelspec": {
   "display_name": "Python 3",
   "language": "python",
   "name": "python3"
  },
  "language_info": {
   "codemirror_mode": {
    "name": "ipython",
    "version": 3
   },
   "file_extension": ".py",
   "mimetype": "text/x-python",
   "name": "python",
   "nbconvert_exporter": "python",
   "pygments_lexer": "ipython3",
   "version": "3.7.6"
  }
 },
 "nbformat": 4,
 "nbformat_minor": 4
}
