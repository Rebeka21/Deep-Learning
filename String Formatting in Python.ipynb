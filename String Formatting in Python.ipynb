{
 "cells": [
  {
   "cell_type": "code",
   "execution_count": 1,
   "metadata": {},
   "outputs": [
    {
     "name": "stdout",
     "output_type": "stream",
     "text": [
      "Hi, Rebeka. How are you?\n"
     ]
    }
   ],
   "source": [
    "str1 = 'Hi'\n",
    "str2 = 'Rebeka'\n",
    "output1 = str1 + ', ' +str2 +'. How are you?'\n",
    "print(output1)"
   ]
  },
  {
   "cell_type": "code",
   "execution_count": 2,
   "metadata": {},
   "outputs": [
    {
     "name": "stdout",
     "output_type": "stream",
     "text": [
      "Hi, Rebeka. How are you?\n"
     ]
    }
   ],
   "source": [
    "output2 = '{}, {}. How are you?'.format(str1, str2)\n",
    "print(output2)"
   ]
  },
  {
   "cell_type": "code",
   "execution_count": 3,
   "metadata": {},
   "outputs": [
    {
     "name": "stdout",
     "output_type": "stream",
     "text": [
      "Hi, Rebeka. How are you?\n"
     ]
    }
   ],
   "source": [
    "output3 = f'{str1}, {str2}. How are you?'\n",
    "print(output3)"
   ]
  },
  {
   "cell_type": "code",
   "execution_count": 5,
   "metadata": {
    "scrolled": true
   },
   "outputs": [
    {
     "name": "stdout",
     "output_type": "stream",
     "text": [
      "Academic Insights\n",
      "<class 'str'>\n",
      "academic insights\n",
      "ACADEMIC INSIGHTS\n",
      "17\n",
      "17\n",
      "2\n",
      "9\n",
      "I\n",
      "Academic \n"
     ]
    }
   ],
   "source": [
    "output4 = 'Academic Insights'\n",
    "print(output4)\n",
    "print(type(output4))\n",
    "print(output4.lower())\n",
    "print(output4.upper())\n",
    "print(output4.__len__())\n",
    "print(len(output4))\n",
    "print(output4.count('i'))\n",
    "print(output4.find('Insights'))\n",
    "print(output4[9])\n",
    "print(output4[0:9])"
   ]
  }
 ],
 "metadata": {
  "kernelspec": {
   "display_name": "Python 3",
   "language": "python",
   "name": "python3"
  },
  "language_info": {
   "codemirror_mode": {
    "name": "ipython",
    "version": 3
   },
   "file_extension": ".py",
   "mimetype": "text/x-python",
   "name": "python",
   "nbconvert_exporter": "python",
   "pygments_lexer": "ipython3",
   "version": "3.7.6"
  }
 },
 "nbformat": 4,
 "nbformat_minor": 4
}
