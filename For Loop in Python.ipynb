{
 "cells": [
  {
   "cell_type": "code",
   "execution_count": 6,
   "metadata": {},
   "outputs": [
    {
     "name": "stdout",
     "output_type": "stream",
     "text": [
      "i value is 1\n",
      "i value is 2\n",
      "i value is 3\n",
      "i value is 4\n",
      "i value is 5\n",
      "i value is 6\n",
      "i value is 7\n",
      "i value is 8\n",
      "i value is 9\n",
      "i value is 10\n",
      "i value is 11\n",
      "i value is 12\n",
      "i value is 13\n",
      "i value is 14\n",
      "End of For Loop\n"
     ]
    }
   ],
   "source": [
    "for i in range(1,15,1):\n",
    "    print('i value is {}'.format(i))\n",
    "print('End of For Loop')"
   ]
  },
  {
   "cell_type": "code",
   "execution_count": 7,
   "metadata": {},
   "outputs": [
    {
     "name": "stdout",
     "output_type": "stream",
     "text": [
      "a\n",
      "p\n",
      "p\n",
      "l\n",
      "e\n",
      ",\n",
      "m\n",
      "a\n",
      "n\n",
      "g\n",
      "o\n",
      ",\n",
      "o\n",
      "r\n",
      "a\n",
      "n\n",
      "g\n",
      "e\n",
      ",\n",
      "c\n",
      "h\n",
      "e\n",
      "r\n",
      "r\n",
      "y\n"
     ]
    }
   ],
   "source": [
    "str = 'apple,mango,orange,cherry'\n",
    "for i in range ( 0, len(str)):\n",
    "        print(str[i])"
   ]
  },
  {
   "cell_type": "code",
   "execution_count": 8,
   "metadata": {},
   "outputs": [
    {
     "name": "stdout",
     "output_type": "stream",
     "text": [
      "456789123647987345"
     ]
    }
   ],
   "source": [
    "str = '456,789,123,647,987,345'\n",
    "for i in range ( 0, len(str)):\n",
    "    if str[i] in '0123456789':\n",
    "        print(str[i],end='')"
   ]
  },
  {
   "cell_type": "code",
   "execution_count": 10,
   "metadata": {},
   "outputs": [
    {
     "name": "stdout",
     "output_type": "stream",
     "text": [
      "Square of number 1 is 1 and the cube is 1\n",
      "Square of number 2 is 4 and the cube is 8\n",
      "Square of number 3 is 9 and the cube is 27\n",
      "Square of number 4 is 16 and the cube is 64\n",
      "Square of number 5 is 25 and the cube is 125\n",
      "Square of number 6 is 36 and the cube is 216\n",
      "Square of number 7 is 49 and the cube is 343\n",
      "Square of number 8 is 64 and the cube is 512\n",
      "Square of number 9 is 81 and the cube is 729\n",
      "Square of number 10 is 100 and the cube is 1000\n",
      "Square of number 11 is 121 and the cube is 1331\n",
      "Square of number 12 is 144 and the cube is 1728\n",
      "Square of number 13 is 169 and the cube is 2197\n",
      "Square of number 14 is 196 and the cube is 2744\n",
      "End of For Loop\n"
     ]
    }
   ],
   "source": [
    "for i in range(1,15):\n",
    "    print('Square of number {} is {} and the cube is {}'.format(i,i**2,i**3))\n",
    "print('End of For Loop')"
   ]
  }
 ],
 "metadata": {
  "kernelspec": {
   "display_name": "Python 3",
   "language": "python",
   "name": "python3"
  },
  "language_info": {
   "codemirror_mode": {
    "name": "ipython",
    "version": 3
   },
   "file_extension": ".py",
   "mimetype": "text/x-python",
   "name": "python",
   "nbconvert_exporter": "python",
   "pygments_lexer": "ipython3",
   "version": "3.7.6"
  }
 },
 "nbformat": 4,
 "nbformat_minor": 4
}
