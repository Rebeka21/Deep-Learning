{
 "cells": [
  {
   "cell_type": "code",
   "execution_count": 1,
   "metadata": {},
   "outputs": [
    {
     "name": "stdout",
     "output_type": "stream",
     "text": [
      "Enter your name: Rebeka\n",
      "How old are you? 25\n",
      "Yes, you can vote\n"
     ]
    }
   ],
   "source": [
    "name = input('Enter your name: ')\n",
    "age = int(input('How old are you? '))\n",
    "if age >= 18:\n",
    "    print('Yes, you can vote')\n",
    "else:\n",
    "    print('No, you cannot vote')"
   ]
  },
  {
   "cell_type": "code",
   "execution_count": 6,
   "metadata": {},
   "outputs": [
    {
     "name": "stdout",
     "output_type": "stream",
     "text": [
      "Enter theory marks 60\n",
      "Enter practical marks 45\n",
      "Enter theory marks less than 50\n"
     ]
    }
   ],
   "source": [
    "theory_marks = int(input('Enter theory marks '))\n",
    "prac_marks = int(input('Enter practical marks '))\n",
    "if(theory_marks > 50):\n",
    "    print('Enter theory marks less than 50')\n",
    "elif(prac_marks > 50):\n",
    "    print('Enter practical marks less than 50')\n",
    "else:\n",
    "    print('Total score:- ', theory_marks + prac_marks)"
   ]
  },
  {
   "cell_type": "code",
   "execution_count": 7,
   "metadata": {},
   "outputs": [
    {
     "name": "stdout",
     "output_type": "stream",
     "text": [
      "Enter theory marks 40\n",
      "Enter practical marks 55\n",
      "Enter practical marks less than 50\n"
     ]
    }
   ],
   "source": [
    "theory_marks = int(input('Enter theory marks '))\n",
    "prac_marks = int(input('Enter practical marks '))\n",
    "if(theory_marks > 50):\n",
    "    print('Enter theory marks less than 50')\n",
    "elif(prac_marks > 50):\n",
    "    print('Enter practical marks less than 50')\n",
    "else:\n",
    "    print('Total score:- ', theory_marks + prac_marks)"
   ]
  },
  {
   "cell_type": "code",
   "execution_count": 8,
   "metadata": {},
   "outputs": [
    {
     "name": "stdout",
     "output_type": "stream",
     "text": [
      "Enter theory marks 45\n",
      "Enter practical marks 49\n",
      "Total score:-  94\n"
     ]
    }
   ],
   "source": [
    "theory_marks = int(input('Enter theory marks '))\n",
    "prac_marks = int(input('Enter practical marks '))\n",
    "if(theory_marks > 50):\n",
    "    print('Enter theory marks less than 50')\n",
    "elif(prac_marks > 50):\n",
    "    print('Enter practical marks less than 50')\n",
    "else:\n",
    "    print('Total score:- ', theory_marks + prac_marks)"
   ]
  }
 ],
 "metadata": {
  "kernelspec": {
   "display_name": "Python 3",
   "language": "python",
   "name": "python3"
  },
  "language_info": {
   "codemirror_mode": {
    "name": "ipython",
    "version": 3
   },
   "file_extension": ".py",
   "mimetype": "text/x-python",
   "name": "python",
   "nbconvert_exporter": "python",
   "pygments_lexer": "ipython3",
   "version": "3.7.6"
  }
 },
 "nbformat": 4,
 "nbformat_minor": 4
}
